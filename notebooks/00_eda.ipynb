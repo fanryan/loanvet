{
 "cells": [
  {
   "cell_type": "code",
   "execution_count": null,
   "id": "5a5ae68e",
   "metadata": {
    "vscode": {
     "languageId": "plaintext"
    }
   },
   "outputs": [],
   "source": [
    "from src.eda_outliers import plot_outliers\n",
    "from src.eda_missing import summarize_missing"
   ]
  }
 ],
 "metadata": {
  "language_info": {
   "name": "python"
  }
 },
 "nbformat": 4,
 "nbformat_minor": 5
}
