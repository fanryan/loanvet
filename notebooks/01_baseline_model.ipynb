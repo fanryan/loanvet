{
 "cells": [
  {
   "cell_type": "markdown",
   "id": "f912c524",
   "metadata": {},
   "source": [
    "# 01 | Baseline Model  \n",
    "\n",
    "**Objective:**\n",
    "Train a simple logistic regression on the engineered data to establish a performance benchmark.\n",
    "\n",
    "**Approach:**\n",
    "- Use minimal feature engineering to simulate a realistic baseline.\n",
    "- Evaluate model with ROC-AUC, PR-AUC, F1 score, and confusion matrix.\n",
    "- Interpret results and feature importance."
   ]
  },
  {
   "cell_type": "code",
   "execution_count": null,
   "id": "dc47a1d2",
   "metadata": {
    "vscode": {
     "languageId": "plaintext"
    }
   },
   "outputs": [],
   "source": [
    "import sqlite3\n",
    "import pandas as pd\n",
    "import numpy as np\n",
    "import matplotlib.pyplot as plt\n",
    "from sklearn.pipeline import make_pipeline\n",
    "from sklearn.preprocessing import StandardScaler\n",
    "from sklearn.model_selection import StratifiedKFold\n",
    "from sklearn.model_selection import train_test_split\n",
    "from sklearn.linear_model import LogisticRegression\n",
    "from sklearn.metrics import roc_auc_score, precision_recall_curve, roc_curve, auc, f1_score, confusion_matrix, ConfusionMatrixDisplay\n"
   ]
  },
  {
   "cell_type": "markdown",
   "id": "c2dc7191",
   "metadata": {},
   "source": [
    "## Load Baseline Dataset  \n",
    "We’ll pull from our `credit_risk_baseline` table in the SQLite DB."
   ]
  },
  {
   "cell_type": "code",
   "execution_count": null,
   "id": "bd35060b",
   "metadata": {
    "vscode": {
     "languageId": "plaintext"
    }
   },
   "outputs": [
    {
     "data": {
      "text/html": [
       "<div>\n",
       "<style scoped>\n",
       "    .dataframe tbody tr th:only-of-type {\n",
       "        vertical-align: middle;\n",
       "    }\n",
       "\n",
       "    .dataframe tbody tr th {\n",
       "        vertical-align: top;\n",
       "    }\n",
       "\n",
       "    .dataframe thead th {\n",
       "        text-align: right;\n",
       "    }\n",
       "</style>\n",
       "<table border=\"1\" class=\"dataframe\">\n",
       "  <thead>\n",
       "    <tr style=\"text-align: right;\">\n",
       "      <th></th>\n",
       "      <th>SeriousDlqin2yrs</th>\n",
       "      <th>RevolvingUtilizationOfUnsecuredLines</th>\n",
       "      <th>age</th>\n",
       "      <th>NumberOfTime30-59DaysPastDueNotWorse</th>\n",
       "      <th>DebtRatio</th>\n",
       "      <th>MonthlyIncome</th>\n",
       "      <th>NumberOfOpenCreditLinesAndLoans</th>\n",
       "      <th>NumberOfTimes90DaysLate</th>\n",
       "      <th>NumberRealEstateLoansOrLines</th>\n",
       "      <th>NumberOfTime60-89DaysPastDueNotWorse</th>\n",
       "      <th>...</th>\n",
       "      <th>NumberOfTime30-59DaysPastDueNotWorse_log</th>\n",
       "      <th>NumberOfTimes90DaysLate_log</th>\n",
       "      <th>NumberOfTime60-89DaysPastDueNotWorse_log</th>\n",
       "      <th>TotalDelinquencies_log</th>\n",
       "      <th>HighUtilizationFlag</th>\n",
       "      <th>IncomePerCreditLine</th>\n",
       "      <th>AgeGroup_MidAge</th>\n",
       "      <th>AgeGroup_Senior</th>\n",
       "      <th>DependentsGroup_Small</th>\n",
       "      <th>DependentsGroup_Large</th>\n",
       "    </tr>\n",
       "  </thead>\n",
       "  <tbody>\n",
       "    <tr>\n",
       "      <th>0</th>\n",
       "      <td>1</td>\n",
       "      <td>0.766127</td>\n",
       "      <td>45</td>\n",
       "      <td>2</td>\n",
       "      <td>0.802982</td>\n",
       "      <td>9120.0</td>\n",
       "      <td>13</td>\n",
       "      <td>0</td>\n",
       "      <td>6</td>\n",
       "      <td>0</td>\n",
       "      <td>...</td>\n",
       "      <td>1.098612</td>\n",
       "      <td>0.000000</td>\n",
       "      <td>0.0</td>\n",
       "      <td>1.098612</td>\n",
       "      <td>0</td>\n",
       "      <td>651.428571</td>\n",
       "      <td>1</td>\n",
       "      <td>0</td>\n",
       "      <td>1</td>\n",
       "      <td>0</td>\n",
       "    </tr>\n",
       "    <tr>\n",
       "      <th>1</th>\n",
       "      <td>0</td>\n",
       "      <td>0.957151</td>\n",
       "      <td>40</td>\n",
       "      <td>0</td>\n",
       "      <td>0.121876</td>\n",
       "      <td>2600.0</td>\n",
       "      <td>4</td>\n",
       "      <td>0</td>\n",
       "      <td>0</td>\n",
       "      <td>0</td>\n",
       "      <td>...</td>\n",
       "      <td>0.000000</td>\n",
       "      <td>0.000000</td>\n",
       "      <td>0.0</td>\n",
       "      <td>0.000000</td>\n",
       "      <td>1</td>\n",
       "      <td>520.000000</td>\n",
       "      <td>1</td>\n",
       "      <td>0</td>\n",
       "      <td>1</td>\n",
       "      <td>0</td>\n",
       "    </tr>\n",
       "    <tr>\n",
       "      <th>2</th>\n",
       "      <td>0</td>\n",
       "      <td>0.658180</td>\n",
       "      <td>38</td>\n",
       "      <td>1</td>\n",
       "      <td>0.085113</td>\n",
       "      <td>3042.0</td>\n",
       "      <td>2</td>\n",
       "      <td>1</td>\n",
       "      <td>0</td>\n",
       "      <td>0</td>\n",
       "      <td>...</td>\n",
       "      <td>0.693147</td>\n",
       "      <td>0.693147</td>\n",
       "      <td>0.0</td>\n",
       "      <td>1.098612</td>\n",
       "      <td>0</td>\n",
       "      <td>1014.000000</td>\n",
       "      <td>1</td>\n",
       "      <td>0</td>\n",
       "      <td>0</td>\n",
       "      <td>0</td>\n",
       "    </tr>\n",
       "    <tr>\n",
       "      <th>3</th>\n",
       "      <td>0</td>\n",
       "      <td>0.233810</td>\n",
       "      <td>30</td>\n",
       "      <td>0</td>\n",
       "      <td>0.036050</td>\n",
       "      <td>3300.0</td>\n",
       "      <td>5</td>\n",
       "      <td>0</td>\n",
       "      <td>0</td>\n",
       "      <td>0</td>\n",
       "      <td>...</td>\n",
       "      <td>0.000000</td>\n",
       "      <td>0.000000</td>\n",
       "      <td>0.0</td>\n",
       "      <td>0.000000</td>\n",
       "      <td>0</td>\n",
       "      <td>550.000000</td>\n",
       "      <td>1</td>\n",
       "      <td>0</td>\n",
       "      <td>0</td>\n",
       "      <td>0</td>\n",
       "    </tr>\n",
       "    <tr>\n",
       "      <th>4</th>\n",
       "      <td>0</td>\n",
       "      <td>0.907239</td>\n",
       "      <td>49</td>\n",
       "      <td>1</td>\n",
       "      <td>0.024926</td>\n",
       "      <td>50000.0</td>\n",
       "      <td>7</td>\n",
       "      <td>0</td>\n",
       "      <td>1</td>\n",
       "      <td>0</td>\n",
       "      <td>...</td>\n",
       "      <td>0.693147</td>\n",
       "      <td>0.000000</td>\n",
       "      <td>0.0</td>\n",
       "      <td>0.693147</td>\n",
       "      <td>1</td>\n",
       "      <td>6250.000000</td>\n",
       "      <td>1</td>\n",
       "      <td>0</td>\n",
       "      <td>0</td>\n",
       "      <td>0</td>\n",
       "    </tr>\n",
       "  </tbody>\n",
       "</table>\n",
       "<p>5 rows × 27 columns</p>\n",
       "</div>"
      ],
      "text/plain": [
       "   SeriousDlqin2yrs  RevolvingUtilizationOfUnsecuredLines  age  \\\n",
       "0                 1                              0.766127   45   \n",
       "1                 0                              0.957151   40   \n",
       "2                 0                              0.658180   38   \n",
       "3                 0                              0.233810   30   \n",
       "4                 0                              0.907239   49   \n",
       "\n",
       "   NumberOfTime30-59DaysPastDueNotWorse  DebtRatio  MonthlyIncome  \\\n",
       "0                                     2   0.802982         9120.0   \n",
       "1                                     0   0.121876         2600.0   \n",
       "2                                     1   0.085113         3042.0   \n",
       "3                                     0   0.036050         3300.0   \n",
       "4                                     1   0.024926        50000.0   \n",
       "\n",
       "   NumberOfOpenCreditLinesAndLoans  NumberOfTimes90DaysLate  \\\n",
       "0                               13                        0   \n",
       "1                                4                        0   \n",
       "2                                2                        1   \n",
       "3                                5                        0   \n",
       "4                                7                        0   \n",
       "\n",
       "   NumberRealEstateLoansOrLines  NumberOfTime60-89DaysPastDueNotWorse  ...  \\\n",
       "0                             6                                     0  ...   \n",
       "1                             0                                     0  ...   \n",
       "2                             0                                     0  ...   \n",
       "3                             0                                     0  ...   \n",
       "4                             1                                     0  ...   \n",
       "\n",
       "   NumberOfTime30-59DaysPastDueNotWorse_log  NumberOfTimes90DaysLate_log  \\\n",
       "0                                  1.098612                     0.000000   \n",
       "1                                  0.000000                     0.000000   \n",
       "2                                  0.693147                     0.693147   \n",
       "3                                  0.000000                     0.000000   \n",
       "4                                  0.693147                     0.000000   \n",
       "\n",
       "   NumberOfTime60-89DaysPastDueNotWorse_log  TotalDelinquencies_log  \\\n",
       "0                                       0.0                1.098612   \n",
       "1                                       0.0                0.000000   \n",
       "2                                       0.0                1.098612   \n",
       "3                                       0.0                0.000000   \n",
       "4                                       0.0                0.693147   \n",
       "\n",
       "   HighUtilizationFlag  IncomePerCreditLine  AgeGroup_MidAge  AgeGroup_Senior  \\\n",
       "0                    0           651.428571                1                0   \n",
       "1                    1           520.000000                1                0   \n",
       "2                    0          1014.000000                1                0   \n",
       "3                    0           550.000000                1                0   \n",
       "4                    1          6250.000000                1                0   \n",
       "\n",
       "   DependentsGroup_Small  DependentsGroup_Large  \n",
       "0                      1                      0  \n",
       "1                      1                      0  \n",
       "2                      0                      0  \n",
       "3                      0                      0  \n",
       "4                      0                      0  \n",
       "\n",
       "[5 rows x 27 columns]"
      ]
     },
     "execution_count": 2,
     "metadata": {},
     "output_type": "execute_result"
    }
   ],
   "source": [
    "conn = sqlite3.connect(\"../data/loanvet.db\")\n",
    "df = pd.read_sql_query(\"SELECT * FROM credit_risk_baseline\", conn)\n",
    "conn.close()\n",
    "df.head()"
   ]
  },
  {
   "cell_type": "markdown",
   "id": "4f4e7045",
   "metadata": {},
   "source": [
    "## Drop Redundant Columns"
   ]
  },
  {
   "cell_type": "code",
   "execution_count": null,
   "id": "5ccdd23e",
   "metadata": {
    "vscode": {
     "languageId": "plaintext"
    }
   },
   "outputs": [],
   "source": [
    "drop_cols = [\n",
    "    'RevolvingUtilizationOfUnsecuredLines',\n",
    "    'MonthlyIncome',\n",
    "    'DebtRatio',\n",
    "    'NumberOfTime30-59DaysPastDueNotWorse',\n",
    "    'NumberOfTimes90DaysLate',\n",
    "    'NumberOfTime60-89DaysPastDueNotWorse',\n",
    "    'NumberOfTime30-59DaysPastDueNotWorse_log',\n",
    "    'NumberOfTimes90DaysLate_log',\n",
    "    'NumberOfTime60-89DaysPastDueNotWorse_log',\n",
    "    'TotalDelinquencies'\n",
    "]\n",
    "df = df.drop(columns=drop_cols, errors=\"ignore\")"
   ]
  },
  {
   "cell_type": "markdown",
   "id": "2e6738d1",
   "metadata": {},
   "source": [
    "### Data Preprocessing Notes\n",
    "To reduce multicollinearity and avoid redundancy, we dropped raw features that were either highly skewed or already represented by transformed versions:\n",
    "\n",
    "- Original delinquency variables (e.g., `NumberOfTimes90DaysLate`) were replaced by their log-transformed versions or aggregated into `TotalDelinquencies_log`.\n",
    "- Skewed continuous variables like `RevolvingUtilizationOfUnsecuredLines` and `MonthlyIncome` were dropped in favor of their log-transformed counterparts.\n",
    "- The original `TotalDelinquencies` was also removed since the log-transformed version was used for modeling.\n",
    "\n",
    "This step ensures the model focuses on cleaner, more interpretable signals while minimizing the risk of redundant information."
   ]
  },
  {
   "cell_type": "markdown",
   "id": "4fe6a5ee",
   "metadata": {},
   "source": [
    "## Train/Test Split\n",
    "Stratify on the target to preserve imbalance."
   ]
  },
  {
   "cell_type": "code",
   "execution_count": null,
   "id": "3f5f657d",
   "metadata": {
    "vscode": {
     "languageId": "plaintext"
    }
   },
   "outputs": [],
   "source": [
    "X = df.drop(columns=[\"SeriousDlqin2yrs\"])\n",
    "y = df[\"SeriousDlqin2yrs\"]\n",
    "X_train, X_test, y_train, y_test = train_test_split(\n",
    "    X, y, test_size=0.2, stratify=y, random_state=42\n",
    ")"
   ]
  },
  {
   "cell_type": "markdown",
   "id": "e0afa599",
   "metadata": {},
   "source": [
    "## Baseline Model\n",
    "Logistic regression is chosen as the baseline due to its simplicity, interpretability, and speed. To address class imbalance in the data, we use `class_weight='balanced'`."
   ]
  },
  {
   "cell_type": "code",
   "execution_count": null,
   "id": "a5cd75b0",
   "metadata": {
    "vscode": {
     "languageId": "plaintext"
    }
   },
   "outputs": [
    {
     "name": "stdout",
     "output_type": "stream",
     "text": [
      "Train/Test Split ROC-AUC: 0.8545\n",
      "Train/Test Split PR-AUC: 0.3687\n",
      "Train/Test Split F1 Score: 0.3323\n",
      "Train/Test Split Confusion Matrix:\n",
      "[[22285  5592]\n",
      " [  489  1513]]\n"
     ]
    }
   ],
   "source": [
    "pipeline = make_pipeline(\n",
    "    StandardScaler(),\n",
    "    LogisticRegression(class_weight=\"balanced\", max_iter=1000)\n",
    ")\n",
    "\n",
    "pipeline.fit(X_train, y_train)\n",
    "y_pred_prob = pipeline.predict_proba(X_test)[:, 1]\n",
    "\n",
    "y_pred = (y_pred_prob >= 0.5).astype(int)\n",
    "\n",
    "roc_auc = roc_auc_score(y_test, y_pred_prob)\n",
    "precision, recall, _ = precision_recall_curve(y_test, y_pred_prob)\n",
    "pr_auc = auc(recall, precision)\n",
    "f1 = f1_score(y_test, y_pred)\n",
    "\n",
    "print(f\"Train/Test Split ROC-AUC: {roc_auc:.4f}\")\n",
    "print(f\"Train/Test Split PR-AUC: {pr_auc:.4f}\")\n",
    "print(f\"Train/Test Split F1 Score: {f1:.4f}\")\n",
    "\n",
    "cm = confusion_matrix(y_test, y_pred)\n",
    "print(\"Train/Test Split Confusion Matrix:\")\n",
    "print(cm)"
   ]
  },
  {
   "cell_type": "markdown",
   "id": "7c7d8272",
   "metadata": {},
   "source": [
    "## Preliminary Train/Test Split Evaluation\n",
    "\n",
    "Before performing more robust cross-validation, we conduct an initial evaluation using a single train/test split.\n",
    "\n",
    "- This quick check ensures our pipeline works end-to-end without errors.\n",
    "- However, metrics from a single split can be unstable and heavily dependent on how the data is divided.\n",
    "- Therefore, these results serve as a sanity check rather than a final performance measure.\n",
    "\n",
    "For reliable and generaliable model evaluation, we proceed with stratified 5-fold cross-validation, which averages performance across multiple splits and reduces variance due to random sampling."
   ]
  },
  {
   "cell_type": "markdown",
   "id": "de3742f3",
   "metadata": {},
   "source": [
    "## Performance Metrics\n",
    "Evaluate model using key classification metrics that reflect imbalanced data performance:\n",
    "\n",
    "ROC-AUC: Measures overall ranking ability between classes.\n",
    "\n",
    "PR-AUC: Focuses on precision and recall trade-off, important for imbalanced datasets.\n",
    "\n",
    "F1 Score: Harmonic mean of precision and recall at 0.5 threshold.\n",
    "\n",
    "Confusion Matrix: Summarizes true positives, false positives, true negatives, and false negatives across folds."
   ]
  },
  {
   "cell_type": "code",
   "execution_count": null,
   "id": "a802c052",
   "metadata": {
    "vscode": {
     "languageId": "plaintext"
    }
   },
   "outputs": [
    {
     "name": "stdout",
     "output_type": "stream",
     "text": [
      "Mean ROC-AUC: 0.8556 ± 0.0032\n",
      "Mean PR-AUC: 0.3706 ± 0.0113\n",
      "Mean F1: 0.3345 ± 0.0028\n",
      "Summed Confusion Matrix across folds:\n",
      "[[112241  27141]\n",
      " [  2549   7460]]\n"
     ]
    },
    {
     "data": {
      "image/png": "[encoded data removed]",
      "text/plain": [
       "<Figure size 640x480 with 1 Axes>"
      ]
     },
     "metadata": {},
     "output_type": "display_data"
    },
    {
     "data": {
      "image/png": "[encoded data removed]",
      "text/plain": [
       "<Figure size 640x480 with 1 Axes>"
      ]
     },
     "metadata": {},
     "output_type": "display_data"
    }
   ],
   "source": [
    "skf = StratifiedKFold(n_splits=5, shuffle=True, random_state=42)\n",
    "\n",
    "roc_auc_scores = []\n",
    "pr_auc_scores = []\n",
    "f1_scores = []\n",
    "cm_sum = np.array([[0, 0], [0, 0]])\n",
    "\n",
    "for train_idx, test_idx in skf.split(X, y):\n",
    "    X_train, X_test = X.iloc[train_idx], X.iloc[test_idx]\n",
    "    y_train, y_test = y.iloc[train_idx], y.iloc[test_idx]\n",
    "\n",
    "    pipeline = make_pipeline(\n",
    "        StandardScaler(),\n",
    "        LogisticRegression(class_weight=\"balanced\", max_iter=1000, random_state=42)\n",
    "    )\n",
    "    pipeline.fit(X_train, y_train)\n",
    "    y_pred_prob = pipeline.predict_proba(X_test)[:, 1]\n",
    "\n",
    "    y_pred = (y_pred_prob >= 0.5).astype(int)\n",
    "\n",
    "    roc_auc = roc_auc_score(y_test, y_pred_prob)\n",
    "    precision, recall, _ = precision_recall_curve(y_test, y_pred_prob)\n",
    "    pr_auc = auc(recall, precision)\n",
    "    f1 = f1_score(y_test, y_pred)\n",
    "    cm = confusion_matrix(y_test, y_pred)\n",
    "\n",
    "    roc_auc_scores.append(roc_auc)\n",
    "    pr_auc_scores.append(pr_auc)\n",
    "    f1_scores.append(f1)\n",
    "    cm_sum += cm\n",
    "\n",
    "print(f\"Mean ROC-AUC: {np.mean(roc_auc_scores):.4f} ± {np.std(roc_auc_scores):.4f}\")\n",
    "print(f\"Mean PR-AUC: {np.mean(pr_auc_scores):.4f} ± {np.std(pr_auc_scores):.4f}\")\n",
    "print(f\"Mean F1: {np.mean(f1_scores):.4f} ± {np.std(f1_scores):.4f}\")\n",
    "print(\"Summed Confusion Matrix across folds:\")\n",
    "print(cm_sum)\n",
    "\n",
    "fpr, tpr, _ = roc_curve(y_test, y_pred_prob)\n",
    "precision, recall, _ = precision_recall_curve(y_test, y_pred_prob)\n",
    "\n",
    "plt.plot(fpr, tpr, label='ROC curve (last fold)')\n",
    "plt.xlabel('False Positive Rate')\n",
    "plt.ylabel('True Positive Rate')\n",
    "plt.title('ROC Curve')\n",
    "plt.legend()\n",
    "plt.show()\n",
    "\n",
    "plt.plot(recall, precision, label='PR curve (last fold)')\n",
    "plt.xlabel('Recall')\n",
    "plt.ylabel('Precision')\n",
    "plt.title('Precision-Recall Curve')\n",
    "plt.legend()\n",
    "plt.show()"
   ]
  },
  {
   "cell_type": "markdown",
   "id": "c0755319",
   "metadata": {},
   "source": [
    "### Performance Interpretation\n",
    "\n",
    "- **ROC-AUC (~0.856)**: The model does reasonably well at ranking positive vs negative examples.\n",
    "- **PR-AUC (~0.371)**: Indicates moderate performance on the minority class; much harder than ROC-AUC due to imbalance.\n",
    "- **F1 Score (~0.33)**: Balanced harmonic mean of precision and recall; suggests decent balance between false positives and false negatives.\n",
    "- **Confusion Matrix**: Aggregated across folds, gives a more stable view of how many defaults the model missed or falsely predicted.\n",
    "\n",
    "Overall, the baseline shows promising separation but has limitations in precision/recall on the minority class."
   ]
  },
  {
   "cell_type": "markdown",
   "id": "8288daa9",
   "metadata": {},
   "source": [
    "## Feature Importance  \n",
    "\n",
    "Logistic regression provides direct interpretability through feature coefficients. This helps identify which features are most influential in predicting credit risk."
   ]
  },
  {
   "cell_type": "code",
   "execution_count": null,
   "id": "2c2f1c7f",
   "metadata": {
    "vscode": {
     "languageId": "plaintext"
    }
   },
   "outputs": [
    {
     "name": "stdout",
     "output_type": "stream",
     "text": [
      "                                     feature      coef  abs_coef\n",
      "9                     TotalDelinquencies_log  0.788048  0.788048\n",
      "6   RevolvingUtilizationOfUnsecuredLines_log  0.689448  0.689448\n",
      "8                              DebtRatio_log -0.314060  0.314060\n",
      "0                                        age -0.291139  0.291139\n",
      "4                 MonthlyIncome_missing_flag  0.265094  0.265094\n",
      "1            NumberOfOpenCreditLinesAndLoans  0.190339  0.190339\n",
      "2               NumberRealEstateLoansOrLines  0.136626  0.136626\n",
      "7                          MonthlyIncome_log -0.135310  0.135310\n",
      "10                       HighUtilizationFlag  0.040241  0.040241\n",
      "13                           AgeGroup_Senior -0.035346  0.035346\n"
     ]
    }
   ],
   "source": [
    "logreg_model = pipeline.steps[-1][1]\n",
    "\n",
    "coef_df = pd.DataFrame({\n",
    "    \"feature\": X_train.columns,\n",
    "    \"coef\": logreg_model.coef_[0]\n",
    "})\n",
    "\n",
    "coef_df = coef_df.assign(abs_coef=lambda d: d.coef.abs()).sort_values(\"abs_coef\", ascending=False)\n",
    "\n",
    "print(coef_df.head(10))\n"
   ]
  },
  {
   "cell_type": "markdown",
   "id": "8c66ab5b",
   "metadata": {},
   "source": [
    "### Feature Importance Interpretation\n",
    "\n",
    "- `TotalDelinquencies_log` and `RevolvingUtilizationOfUnsecuredLines_log` have the strongest positive coefficients, meaning higher values increase the likelihood of default.\n",
    "- `DebtRatio_log` and `age` have negative coefficients, suggesting that older age and lower debt ratios are associated with lower risk.\n",
    "- `MonthlyIncome_missing_flag` is positively correlated with default, which implies missing income data might be a proxy for higher risk.\n",
    "- `HighUtilizationFlag` also contributes positively, albeit to a lesser extent — reinforcing that credit max-out behavior is risky.\n",
    "- Categorical binning like `AgeGroup_Senior` slightly lowers predicted risk, which aligns with domain intuition.\n",
    "\n",
    "These insights help validate the model’s learning against financial reasoning, and set expectations for which features we want future models to explain or improve upon."
   ]
  },
  {
   "cell_type": "markdown",
   "id": "d000239d",
   "metadata": {},
   "source": [
    "## Conclusions\n",
    "\n",
    "- The logistic regression baseline sets a strong foundation, with **ROC-AUC of 0.856** and reasonable **PR-AUC** and **F1**.\n",
    "- Key drivers include late payment history and revolving credit utilization.\n",
    "- There is still room to improve recall and precision, which future models (e.g., tree-based ensembles) may better capture.\n",
    "- This baseline will be used for comparison against more advanced models trained on the fully engineered dataset."
   ]
  }
 ],
 "metadata": {
  "kernelspec": {
   "display_name": "Python 3 (ipykernel)",
   "language": "python",
   "name": "python3"
  },
  "language_info": {
   "codemirror_mode": {
    "name": "ipython",
    "version": 3
   },
   "file_extension": ".py",
   "mimetype": "text/x-python",
   "name": "python",
   "nbconvert_exporter": "python",
   "pygments_lexer": "ipython3",
   "version": "3.10.13"
  }
 },
 "nbformat": 4,
 "nbformat_minor": 5
}
