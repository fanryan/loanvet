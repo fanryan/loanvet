{
 "cells": [
  {
   "cell_type": "markdown",
   "id": "f912c524",
   "metadata": {},
   "source": [
    "# 01 | Baseline Model  \n",
    "*Train a simple logistic regression on the engineered data to establish a performance benchmark.*"
   ]
  },
  {
   "cell_type": "code",
   "execution_count": null,
   "id": "dc47a1d2",
   "metadata": {
    "vscode": {
     "languageId": "plaintext"
    }
   },
   "outputs": [],
   "source": [
    "import sqlite3\n",
    "import pandas as pd\n",
    "from sklearn.model_selection import train_test_split\n",
    "from sklearn.linear_model import LogisticRegression\n",
    "from sklearn.metrics import roc_auc_score, precision_recall_curve, auc"
   ]
  },
  {
   "cell_type": "markdown",
   "id": "c2dc7191",
   "metadata": {},
   "source": [
    "## Load Engineered Dataset  \n",
    "We’ll pull from our `credit_risk_engineered` table in the SQLite DB."
   ]
  },
  {
   "cell_type": "code",
   "execution_count": null,
   "id": "bd35060b",
   "metadata": {
    "vscode": {
     "languageId": "plaintext"
    }
   },
   "outputs": [],
   "source": [
    "conn = sqlite3.connect(\"../data/loanvet.db\")\n",
    "df = pd.read_sql_query(\"SELECT * FROM credit_risk_engineered\", conn)\n",
    "conn.close()\n",
    "df.head()"
   ]
  },
  {
   "cell_type": "markdown",
   "id": "4fe6a5ee",
   "metadata": {},
   "source": [
    "## Train/Test Split\n",
    "Stratify on the target to preserve imbalance."
   ]
  },
  {
   "cell_type": "code",
   "execution_count": null,
   "id": "3f5f657d",
   "metadata": {
    "vscode": {
     "languageId": "plaintext"
    }
   },
   "outputs": [],
   "source": [
    "X = df.drop(columns=[\"SeriousDlqin2yrs\"])\n",
    "y = df[\"SeriousDlqin2yrs\"]\n",
    "X_train, X_test, y_train, y_test = train_test_split(\n",
    "    X, y, test_size=0.2, stratify=y, random_state=42\n",
    ")"
   ]
  },
  {
   "cell_type": "markdown",
   "id": "e0afa599",
   "metadata": {},
   "source": [
    "## Baseline Logistic Regression\n",
    "Train with class weights to handle imbalance."
   ]
  },
  {
   "cell_type": "code",
   "execution_count": null,
   "id": "a5cd75b0",
   "metadata": {
    "vscode": {
     "languageId": "plaintext"
    }
   },
   "outputs": [],
   "source": [
    "from sklearn.pipeline import make_pipeline\n",
    "from sklearn.preprocessing import StandardScaler\n",
    "\n",
    "pipeline = make_pipeline(\n",
    "    StandardScaler(),\n",
    "    LogisticRegression(class_weight=\"balanced\", max_iter=1000)\n",
    ")\n",
    "\n",
    "pipeline.fit(X_train, y_train)\n",
    "y_pred_prob = pipeline.predict_proba(X_test)[:, 1]"
   ]
  },
  {
   "cell_type": "markdown",
   "id": "de3742f3",
   "metadata": {},
   "source": [
    "## Performance Metrics  \n",
    "Calculate ROC‑AUC and PR‑AUC."
   ]
  },
  {
   "cell_type": "code",
   "execution_count": null,
   "id": "a802c052",
   "metadata": {
    "vscode": {
     "languageId": "plaintext"
    }
   },
   "outputs": [],
   "source": [
    "roc_auc = roc_auc_score(y_test, y_pred_prob)\n",
    "precision, recall, _ = precision_recall_curve(y_test, y_pred_prob)\n",
    "pr_auc = auc(recall, precision)\n",
    "print(f\"ROC‑AUC: {roc_auc:.4f}, PR‑AUC: {pr_auc:.4f}\")"
   ]
  },
  {
   "cell_type": "markdown",
   "id": "8288daa9",
   "metadata": {},
   "source": [
    "## Feature Importance (Coefficients)  \n",
    "Examine which features carry the most weight."
   ]
  },
  {
   "cell_type": "code",
   "execution_count": null,
   "id": "2c2f1c7f",
   "metadata": {
    "vscode": {
     "languageId": "plaintext"
    }
   },
   "outputs": [],
   "source": [
    "coef_df = pd.DataFrame({\n",
    "    \"feature\": X_train.columns,\n",
    "    \"coef\": model.coef_[0]\n",
    "}).assign(abs_coef=lambda d: d.coef.abs()).sort_values(\"abs_coef\", ascending=False)\n",
    "coef_df.head(10)\n"
   ]
  },
  {
   "cell_type": "markdown",
   "id": "7ebcb7dd",
   "metadata": {},
   "source": [
    "## ROC & Precision‑Recall Curves\n"
   ]
  },
  {
   "cell_type": "code",
   "execution_count": null,
   "id": "52223144",
   "metadata": {
    "vscode": {
     "languageId": "plaintext"
    }
   },
   "outputs": [],
   "source": [
    "import matplotlib.pyplot as plt\n",
    "\n",
    "# ROC curve\n",
    "from sklearn.metrics import roc_curve\n",
    "fpr, tpr, _ = roc_curve(y_test, y_pred_prob)\n",
    "plt.plot(fpr, tpr, label=f\"ROC (AUC = {roc_auc:.2f})\")\n",
    "plt.xlabel(\"False Positive Rate\")\n",
    "plt.ylabel(\"True Positive Rate\")\n",
    "plt.legend()\n",
    "plt.show()\n",
    "\n",
    "# PR curve\n",
    "plt.plot(recall, precision, label=f\"PR (AUC = {pr_auc:.2f})\")\n",
    "plt.xlabel(\"Recall\")\n",
    "plt.ylabel(\"Precision\")\n",
    "plt.legend()\n",
    "plt.show()"
   ]
  },
  {
   "cell_type": "markdown",
   "id": "d000239d",
   "metadata": {},
   "source": [
    "## Conclusions  \n",
    "- Baseline ROC‑AUC: 0.8589 \n",
    "- PR‑AUC: 0.3935  \n",
    "**Next:** try tree‑based models, hyperparameter tuning, additional feature engineering."
   ]
  },
  {
   "cell_type": "markdown",
   "id": "7e52aee8",
   "metadata": {},
   "source": []
  }
 ],
 "metadata": {
  "kernelspec": {
   "display_name": "Python 3 (ipykernel)",
   "language": "python",
   "name": "python3"
  },
  "language_info": {
   "codemirror_mode": {
    "name": "ipython",
    "version": 3
   },
   "file_extension": ".py",
   "mimetype": "text/x-python",
   "name": "python",
   "nbconvert_exporter": "python",
   "pygments_lexer": "ipython3",
   "version": "3.12.5"
  }
 },
 "nbformat": 4,
 "nbformat_minor": 5
}
