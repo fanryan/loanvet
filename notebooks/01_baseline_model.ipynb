{
 "cells": [
  {
   "cell_type": "markdown",
   "id": "f912c524",
   "metadata": {},
   "source": [
    "# 01 | Baseline Model  \n",
    "*Train a simple logistic regression on the engineered data to establish a performance benchmark.*"
   ]
  },
  {
   "cell_type": "code",
   "execution_count": 85,
   "id": "dc47a1d2",
   "metadata": {
    "vscode": {
     "languageId": "plaintext"
    }
   },
   "outputs": [],
   "source": [
    "import sqlite3\n",
    "import pandas as pd\n",
    "from sklearn.model_selection import train_test_split\n",
    "from sklearn.linear_model import LogisticRegression\n",
    "from sklearn.metrics import roc_auc_score, precision_recall_curve, auc"
   ]
  },
  {
   "cell_type": "markdown",
   "id": "c2dc7191",
   "metadata": {},
   "source": [
    "## Load Engineered Dataset  \n",
    "We’ll pull from our `credit_risk_engineered` table in the SQLite DB."
   ]
  },
  {
   "cell_type": "code",
   "execution_count": 86,
   "id": "bd35060b",
   "metadata": {
    "vscode": {
     "languageId": "plaintext"
    }
   },
   "outputs": [
    {
     "data": {
      "text/html": [
       "<div>\n",
       "<style scoped>\n",
       "    .dataframe tbody tr th:only-of-type {\n",
       "        vertical-align: middle;\n",
       "    }\n",
       "\n",
       "    .dataframe tbody tr th {\n",
       "        vertical-align: top;\n",
       "    }\n",
       "\n",
       "    .dataframe thead th {\n",
       "        text-align: right;\n",
       "    }\n",
       "</style>\n",
       "<table border=\"1\" class=\"dataframe\">\n",
       "  <thead>\n",
       "    <tr style=\"text-align: right;\">\n",
       "      <th></th>\n",
       "      <th>SeriousDlqin2yrs</th>\n",
       "      <th>RevolvingUtilizationOfUnsecuredLines</th>\n",
       "      <th>age</th>\n",
       "      <th>NumberOfTime30-59DaysPastDueNotWorse</th>\n",
       "      <th>DebtRatio</th>\n",
       "      <th>MonthlyIncome</th>\n",
       "      <th>NumberOfOpenCreditLinesAndLoans</th>\n",
       "      <th>NumberOfTimes90DaysLate</th>\n",
       "      <th>NumberRealEstateLoansOrLines</th>\n",
       "      <th>NumberOfTime60-89DaysPastDueNotWorse</th>\n",
       "      <th>...</th>\n",
       "      <th>TotalDelinquencies_log</th>\n",
       "      <th>HighUtilizationFlag</th>\n",
       "      <th>IncomePerCreditLine</th>\n",
       "      <th>AgeGroup_MidAge</th>\n",
       "      <th>AgeGroup_Senior</th>\n",
       "      <th>DependentsGroup_Small</th>\n",
       "      <th>DependentsGroup_Large</th>\n",
       "      <th>Util_x_Late</th>\n",
       "      <th>IncomePerDependent</th>\n",
       "      <th>CreditLines_x_Delinquencies</th>\n",
       "    </tr>\n",
       "  </thead>\n",
       "  <tbody>\n",
       "    <tr>\n",
       "      <th>0</th>\n",
       "      <td>1</td>\n",
       "      <td>0.766127</td>\n",
       "      <td>45</td>\n",
       "      <td>2</td>\n",
       "      <td>0.802982</td>\n",
       "      <td>9120.0</td>\n",
       "      <td>13</td>\n",
       "      <td>0</td>\n",
       "      <td>6</td>\n",
       "      <td>0</td>\n",
       "      <td>...</td>\n",
       "      <td>1.098612</td>\n",
       "      <td>0</td>\n",
       "      <td>651.428571</td>\n",
       "      <td>1</td>\n",
       "      <td>0</td>\n",
       "      <td>1</td>\n",
       "      <td>0</td>\n",
       "      <td>0.000000</td>\n",
       "      <td>3040.0</td>\n",
       "      <td>26</td>\n",
       "    </tr>\n",
       "    <tr>\n",
       "      <th>1</th>\n",
       "      <td>0</td>\n",
       "      <td>0.957151</td>\n",
       "      <td>40</td>\n",
       "      <td>0</td>\n",
       "      <td>0.121876</td>\n",
       "      <td>2600.0</td>\n",
       "      <td>4</td>\n",
       "      <td>0</td>\n",
       "      <td>0</td>\n",
       "      <td>0</td>\n",
       "      <td>...</td>\n",
       "      <td>0.000000</td>\n",
       "      <td>1</td>\n",
       "      <td>520.000000</td>\n",
       "      <td>1</td>\n",
       "      <td>0</td>\n",
       "      <td>1</td>\n",
       "      <td>0</td>\n",
       "      <td>0.000000</td>\n",
       "      <td>1300.0</td>\n",
       "      <td>0</td>\n",
       "    </tr>\n",
       "    <tr>\n",
       "      <th>2</th>\n",
       "      <td>0</td>\n",
       "      <td>0.658180</td>\n",
       "      <td>38</td>\n",
       "      <td>1</td>\n",
       "      <td>0.085113</td>\n",
       "      <td>3042.0</td>\n",
       "      <td>2</td>\n",
       "      <td>1</td>\n",
       "      <td>0</td>\n",
       "      <td>0</td>\n",
       "      <td>...</td>\n",
       "      <td>1.098612</td>\n",
       "      <td>0</td>\n",
       "      <td>1014.000000</td>\n",
       "      <td>1</td>\n",
       "      <td>0</td>\n",
       "      <td>0</td>\n",
       "      <td>0</td>\n",
       "      <td>0.350539</td>\n",
       "      <td>3042.0</td>\n",
       "      <td>4</td>\n",
       "    </tr>\n",
       "    <tr>\n",
       "      <th>3</th>\n",
       "      <td>0</td>\n",
       "      <td>0.233810</td>\n",
       "      <td>30</td>\n",
       "      <td>0</td>\n",
       "      <td>0.036050</td>\n",
       "      <td>3300.0</td>\n",
       "      <td>5</td>\n",
       "      <td>0</td>\n",
       "      <td>0</td>\n",
       "      <td>0</td>\n",
       "      <td>...</td>\n",
       "      <td>0.000000</td>\n",
       "      <td>0</td>\n",
       "      <td>550.000000</td>\n",
       "      <td>1</td>\n",
       "      <td>0</td>\n",
       "      <td>0</td>\n",
       "      <td>0</td>\n",
       "      <td>0.000000</td>\n",
       "      <td>3300.0</td>\n",
       "      <td>0</td>\n",
       "    </tr>\n",
       "    <tr>\n",
       "      <th>4</th>\n",
       "      <td>0</td>\n",
       "      <td>0.907239</td>\n",
       "      <td>49</td>\n",
       "      <td>1</td>\n",
       "      <td>0.024926</td>\n",
       "      <td>50000.0</td>\n",
       "      <td>7</td>\n",
       "      <td>0</td>\n",
       "      <td>1</td>\n",
       "      <td>0</td>\n",
       "      <td>...</td>\n",
       "      <td>0.693147</td>\n",
       "      <td>1</td>\n",
       "      <td>6250.000000</td>\n",
       "      <td>1</td>\n",
       "      <td>0</td>\n",
       "      <td>0</td>\n",
       "      <td>0</td>\n",
       "      <td>0.000000</td>\n",
       "      <td>50000.0</td>\n",
       "      <td>7</td>\n",
       "    </tr>\n",
       "  </tbody>\n",
       "</table>\n",
       "<p>5 rows × 30 columns</p>\n",
       "</div>"
      ],
      "text/plain": [
       "   SeriousDlqin2yrs  RevolvingUtilizationOfUnsecuredLines  age  \\\n",
       "0                 1                              0.766127   45   \n",
       "1                 0                              0.957151   40   \n",
       "2                 0                              0.658180   38   \n",
       "3                 0                              0.233810   30   \n",
       "4                 0                              0.907239   49   \n",
       "\n",
       "   NumberOfTime30-59DaysPastDueNotWorse  DebtRatio  MonthlyIncome  \\\n",
       "0                                     2   0.802982         9120.0   \n",
       "1                                     0   0.121876         2600.0   \n",
       "2                                     1   0.085113         3042.0   \n",
       "3                                     0   0.036050         3300.0   \n",
       "4                                     1   0.024926        50000.0   \n",
       "\n",
       "   NumberOfOpenCreditLinesAndLoans  NumberOfTimes90DaysLate  \\\n",
       "0                               13                        0   \n",
       "1                                4                        0   \n",
       "2                                2                        1   \n",
       "3                                5                        0   \n",
       "4                                7                        0   \n",
       "\n",
       "   NumberRealEstateLoansOrLines  NumberOfTime60-89DaysPastDueNotWorse  ...  \\\n",
       "0                             6                                     0  ...   \n",
       "1                             0                                     0  ...   \n",
       "2                             0                                     0  ...   \n",
       "3                             0                                     0  ...   \n",
       "4                             1                                     0  ...   \n",
       "\n",
       "   TotalDelinquencies_log  HighUtilizationFlag  IncomePerCreditLine  \\\n",
       "0                1.098612                    0           651.428571   \n",
       "1                0.000000                    1           520.000000   \n",
       "2                1.098612                    0          1014.000000   \n",
       "3                0.000000                    0           550.000000   \n",
       "4                0.693147                    1          6250.000000   \n",
       "\n",
       "   AgeGroup_MidAge  AgeGroup_Senior  DependentsGroup_Small  \\\n",
       "0                1                0                      1   \n",
       "1                1                0                      1   \n",
       "2                1                0                      0   \n",
       "3                1                0                      0   \n",
       "4                1                0                      0   \n",
       "\n",
       "   DependentsGroup_Large  Util_x_Late  IncomePerDependent  \\\n",
       "0                      0     0.000000              3040.0   \n",
       "1                      0     0.000000              1300.0   \n",
       "2                      0     0.350539              3042.0   \n",
       "3                      0     0.000000              3300.0   \n",
       "4                      0     0.000000             50000.0   \n",
       "\n",
       "   CreditLines_x_Delinquencies  \n",
       "0                           26  \n",
       "1                            0  \n",
       "2                            4  \n",
       "3                            0  \n",
       "4                            7  \n",
       "\n",
       "[5 rows x 30 columns]"
      ]
     },
     "execution_count": 86,
     "metadata": {},
     "output_type": "execute_result"
    }
   ],
   "source": [
    "conn = sqlite3.connect(\"../data/loanvet.db\")\n",
    "df = pd.read_sql_query(\"SELECT * FROM credit_risk_engineered\", conn)\n",
    "conn.close()\n",
    "df.head()"
   ]
  },
  {
   "cell_type": "markdown",
   "id": "4f4e7045",
   "metadata": {},
   "source": [
    "## Drop Redundant Columns"
   ]
  },
  {
   "cell_type": "code",
   "execution_count": null,
   "id": "5ccdd23e",
   "metadata": {
    "vscode": {
     "languageId": "plaintext"
    }
   },
   "outputs": [],
   "source": [
    "drop_cols = [\n",
    "    \"RevolvingUtilizationOfUnsecuredLines\",\n",
    "    \"DebtRatio\",\n",
    "    \"NumberOfTime30-59DaysPastDueNotWorse\",\n",
    "    \"NumberOfTimes90DaysLate\",\n",
    "    \"NumberOfTime60-89DaysPastDueNotWorse\",\n",
    "    'NumberOfTime30-59DaysPastDueNotWorse_log',\n",
    "    'NumberOfTimes90DaysLate_log',\n",
    "    'NumberOfTime60-89DaysPastDueNotWorse_log',\n",
    "    \"age\",\n",
    "    \"NumberOfDependents\",\n",
    "    \"TotalDelinquencies\",\n",
    "    \"MonthlyIncome_log\"\n",
    "]\n",
    "df = df.drop(columns=drop_cols, errors=\"ignore\")"
   ]
  },
  {
   "cell_type": "markdown",
   "id": "4fe6a5ee",
   "metadata": {},
   "source": [
    "## Train/Test Split\n",
    "Stratify on the target to preserve imbalance."
   ]
  },
  {
   "cell_type": "code",
   "execution_count": 88,
   "id": "3f5f657d",
   "metadata": {
    "vscode": {
     "languageId": "plaintext"
    }
   },
   "outputs": [],
   "source": [
    "X = df.drop(columns=[\"SeriousDlqin2yrs\"])\n",
    "y = df[\"SeriousDlqin2yrs\"]\n",
    "X_train, X_test, y_train, y_test = train_test_split(\n",
    "    X, y, test_size=0.2, stratify=y, random_state=42\n",
    ")"
   ]
  },
  {
   "cell_type": "markdown",
   "id": "e0afa599",
   "metadata": {},
   "source": [
    "## Baseline Logistic Regression\n",
    "Train with class weights to handle imbalance."
   ]
  },
  {
   "cell_type": "code",
   "execution_count": 89,
   "id": "a5cd75b0",
   "metadata": {
    "vscode": {
     "languageId": "plaintext"
    }
   },
   "outputs": [],
   "source": [
    "from sklearn.pipeline import make_pipeline\n",
    "from sklearn.preprocessing import StandardScaler\n",
    "\n",
    "pipeline = make_pipeline(\n",
    "    StandardScaler(),\n",
    "    LogisticRegression(class_weight=\"balanced\", max_iter=1000)\n",
    ")\n",
    "\n",
    "pipeline.fit(X_train, y_train)\n",
    "y_pred_prob = pipeline.predict_proba(X_test)[:, 1]"
   ]
  },
  {
   "cell_type": "markdown",
   "id": "de3742f3",
   "metadata": {},
   "source": [
    "## Performance Metrics  \n",
    "Calculate ROC‑AUC and PR‑AUC."
   ]
  },
  {
   "cell_type": "code",
   "execution_count": 90,
   "id": "a802c052",
   "metadata": {
    "vscode": {
     "languageId": "plaintext"
    }
   },
   "outputs": [
    {
     "name": "stdout",
     "output_type": "stream",
     "text": [
      "ROC‑AUC: 0.8558, PR‑AUC: 0.3735\n"
     ]
    }
   ],
   "source": [
    "roc_auc = roc_auc_score(y_test, y_pred_prob)\n",
    "precision, recall, _ = precision_recall_curve(y_test, y_pred_prob)\n",
    "pr_auc = auc(recall, precision)\n",
    "print(f\"ROC‑AUC: {roc_auc:.4f}, PR‑AUC: {pr_auc:.4f}\")"
   ]
  },
  {
   "cell_type": "markdown",
   "id": "8288daa9",
   "metadata": {},
   "source": [
    "## Feature Importance (Coefficients)  \n",
    "Examine which features carry the most weight."
   ]
  },
  {
   "cell_type": "code",
   "execution_count": 91,
   "id": "2c2f1c7f",
   "metadata": {
    "vscode": {
     "languageId": "plaintext"
    }
   },
   "outputs": [
    {
     "name": "stdout",
     "output_type": "stream",
     "text": [
      "                                     feature      coef  abs_coef\n",
      "7                     TotalDelinquencies_log  0.888535  0.888535\n",
      "5   RevolvingUtilizationOfUnsecuredLines_log  0.728600  0.728600\n",
      "11                           AgeGroup_Senior -0.376392  0.376392\n",
      "1            NumberOfOpenCreditLinesAndLoans  0.247410  0.247410\n",
      "0                              MonthlyIncome -0.243798  0.243798\n",
      "10                           AgeGroup_MidAge -0.175826  0.175826\n",
      "2               NumberRealEstateLoansOrLines  0.161555  0.161555\n",
      "6                              DebtRatio_log -0.144261  0.144261\n",
      "16               CreditLines_x_Delinquencies -0.135478  0.135478\n",
      "9                        IncomePerCreditLine  0.122219  0.122219\n"
     ]
    }
   ],
   "source": [
    "logreg_model = pipeline.steps[-1][1]\n",
    "\n",
    "coef_df = pd.DataFrame({\n",
    "    \"feature\": X_train.columns,\n",
    "    \"coef\": logreg_model.coef_[0]\n",
    "})\n",
    "\n",
    "coef_df = coef_df.assign(abs_coef=lambda d: d.coef.abs()).sort_values(\"abs_coef\", ascending=False)\n",
    "\n",
    "print(coef_df.head(10))\n"
   ]
  },
  {
   "cell_type": "markdown",
   "id": "7ebcb7dd",
   "metadata": {},
   "source": [
    "## ROC & Precision‑Recall Curves\n"
   ]
  },
  {
   "cell_type": "code",
   "execution_count": 92,
   "id": "52223144",
   "metadata": {
    "vscode": {
     "languageId": "plaintext"
    }
   },
   "outputs": [
    {
     "data": {
      "image/png": "[encoded data removed]",
      "text/plain": [
       "<Figure size 640x480 with 1 Axes>"
      ]
     },
     "metadata": {},
     "output_type": "display_data"
    },
    {
     "data": {
      "image/png": "[encoded data removed]",
      "text/plain": [
       "<Figure size 640x480 with 1 Axes>"
      ]
     },
     "metadata": {},
     "output_type": "display_data"
    }
   ],
   "source": [
    "import matplotlib.pyplot as plt\n",
    "\n",
    "# ROC curve\n",
    "from sklearn.metrics import roc_curve\n",
    "fpr, tpr, _ = roc_curve(y_test, y_pred_prob)\n",
    "plt.plot(fpr, tpr, label=f\"ROC (AUC = {roc_auc:.2f})\")\n",
    "plt.xlabel(\"False Positive Rate\")\n",
    "plt.ylabel(\"True Positive Rate\")\n",
    "plt.legend()\n",
    "plt.show()\n",
    "\n",
    "# PR curve\n",
    "plt.plot(recall, precision, label=f\"PR (AUC = {pr_auc:.2f})\")\n",
    "plt.xlabel(\"Recall\")\n",
    "plt.ylabel(\"Precision\")\n",
    "plt.legend()\n",
    "plt.show()"
   ]
  },
  {
   "cell_type": "markdown",
   "id": "d000239d",
   "metadata": {},
   "source": [
    "## Conclusions  \n",
    "- Baseline ROC‑AUC: 0.8558\n",
    "- PR‑AUC: 0.3735"
   ]
  }
 ],
 "metadata": {
  "kernelspec": {
   "display_name": "Python 3 (ipykernel)",
   "language": "python",
   "name": "python3"
  },
  "language_info": {
   "codemirror_mode": {
    "name": "ipython",
    "version": 3
   },
   "file_extension": ".py",
   "mimetype": "text/x-python",
   "name": "python",
   "nbconvert_exporter": "python",
   "pygments_lexer": "ipython3",
   "version": "3.12.5"
  }
 },
 "nbformat": 4,
 "nbformat_minor": 5
}
