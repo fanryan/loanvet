{
 "cells": [
  {
   "cell_type": "markdown",
   "id": "80a767c2",
   "metadata": {},
   "source": [
    "# 05 | Deployment - LoanVet Credit Risk Model\n",
    "\n",
    "This notebook demonstrates how to deploy the final XGBoost credit risk classification model for LoanVet. The deployment pipeline includes:\n",
    "\n",
    "- Loading the trained model and classification threshold\n",
    "- Defining batch and single-record prediction functions\n",
    "- Serving the model via a simple API (using FastAPI)\n",
    "- Logging, evaluation sanity checks, and downstream app integration\n",
    "- Documenting deployment considerations and best practices\n",
    "\n",
    "This approach ensures a reproducible, auditable, and production-ready workflow, especially important for financial analytics applications."
   ]
  },
  {
   "cell_type": "code",
   "execution_count": null,
   "id": "648329cc",
   "metadata": {
    "vscode": {
     "languageId": "plaintext"
    }
   },
   "outputs": [],
   "source": [
    "import os\n",
    "import json\n",
    "import joblib\n",
    "import logging\n",
    "import numpy as np\n",
    "import pandas as pd\n",
    "from xgboost import XGBClassifier\n",
    "from typing import Union, List, Dict\n",
    "from fastapi import FastAPI, HTTPException\n",
    "from pydantic import RootModel\n",
    "\n",
    "# Configure logging to output INFO level messages to console\n",
    "logging.basicConfig(level=logging.INFO)"
   ]
  },
  {
   "cell_type": "markdown",
   "id": "05ca15c2",
   "metadata": {},
   "source": [
    "## Load Final Model & Metadata\n",
    "\n",
    "We load the trained XGBoost model and metadata including the classification threshold and feature list.  \n",
    "This metadata ensures that incoming data features match the model expectations exactly."
   ]
  },
  {
   "cell_type": "code",
   "execution_count": null,
   "id": "dcedb1a3",
   "metadata": {
    "vscode": {
     "languageId": "plaintext"
    }
   },
   "outputs": [
    {
     "name": "stdout",
     "output_type": "stream",
     "text": [
      "Model loaded.\n",
      "Threshold loaded: 0.2268\n",
      "Features loaded: 19 features\n"
     ]
    }
   ],
   "source": [
    "MODEL_PATH = '../models/final/xgb_final_model.joblib'\n",
    "METADATA_PATH = '../models/final/xgb_final_metadata.json'\n",
    "\n",
    "# Load model\n",
    "try:\n",
    "    model: XGBClassifier = joblib.load(MODEL_PATH)\n",
    "    logging.info(\"Model loaded from models/final/xgb_final_model.joblib.\")\n",
    "    print(\"Model loaded.\")\n",
    "except Exception as e:\n",
    "    logging.error(f\"Error loading model: {e}\")\n",
    "    raise RuntimeError(\"Failed to load model.\")\n",
    "\n",
    "# Load metadata\n",
    "try:\n",
    "    with open(METADATA_PATH, 'r') as f:\n",
    "        metadata = json.load(f)\n",
    "    \n",
    "    threshold = metadata.get(\"threshold\", 0.5)  # fallback threshold\n",
    "    feature_list = metadata.get(\"features\", [])\n",
    "    \n",
    "    logging.info(f\"Threshold loaded: {threshold}\")\n",
    "    logging.info(f\"Feature list loaded with {len(feature_list)} features.\")\n",
    "    \n",
    "    print(f\"Threshold loaded: {threshold}\")\n",
    "    print(f\"Features loaded: {len(feature_list)} features\")\n",
    "except Exception as e:\n",
    "    logging.error(f\"Error loading metadata: {e}\")\n",
    "    raise RuntimeError(\"Failed to load metadata.\")"
   ]
  },
  {
   "cell_type": "markdown",
   "id": "848fc700",
   "metadata": {},
   "source": [
    "## Define Prediction Functions\n",
    "\n",
    "These functions encapsulate the prediction logic:\n",
    "\n",
    "- `predict_single`: For a single record passed as a dictionary, predict the probability and risk label using the threshold.\n",
    "- `predict_batch`: For a pandas DataFrame of multiple records, predict probabilities and labels for all.\n",
    "\n",
    "Separating these functions allows modular reuse in batch processing, APIs, or interactive apps."
   ]
  },
  {
   "cell_type": "code",
   "execution_count": null,
   "id": "45242177",
   "metadata": {
    "vscode": {
     "languageId": "plaintext"
    }
   },
   "outputs": [],
   "source": [
    "def predict_single(record: Dict[str, Union[float, int]]) -> Dict[str, Union[int, float]]:\n",
    "    try:\n",
    "        # Convert input dict to DataFrame with one row\n",
    "        df = pd.DataFrame([record])\n",
    "\n",
    "        # Ensure columns are in correct order and all features present\n",
    "        df = df[feature_list]\n",
    "\n",
    "        # Model predicts probability of positive class (1)\n",
    "        proba = model.predict_proba(df)[:, 1][0]\n",
    "\n",
    "        # Apply classification threshold\n",
    "        label = int(proba >= threshold)\n",
    "\n",
    "        return {\"label\": label, \"probability\": proba}\n",
    "\n",
    "    except Exception as e:\n",
    "        logging.error(f\"Error in single prediction: {e}\")\n",
    "        raise\n",
    "\n",
    "def predict_batch(df: pd.DataFrame) -> pd.DataFrame:\n",
    "    try:\n",
    "        # Ensure columns are in correct order and all features present\n",
    "        df = df[feature_list]\n",
    "\n",
    "        # Predict probabilities for positive class\n",
    "        proba = model.predict_proba(df)[:, 1]\n",
    "\n",
    "        # Apply threshold\n",
    "        labels = (proba >= threshold).astype(int)\n",
    "\n",
    "        # Append results\n",
    "        df_result = df.copy()\n",
    "        df_result[\"probability\"] = proba\n",
    "        df_result[\"label\"] = labels\n",
    "\n",
    "        return df_result\n",
    "\n",
    "    except Exception as e:\n",
    "        logging.error(f\"Error in batch prediction: {e}\")\n",
    "        raise"
   ]
  },
  {
   "cell_type": "markdown",
   "id": "9048a73e",
   "metadata": {},
   "source": [
    "## Build FastAPI Application and Define /predict Endpoint\n",
    "\n",
    "We create a FastAPI app that exposes an HTTP POST `/predict` endpoint.  \n",
    "The endpoint:\n",
    "\n",
    "- Accepts JSON input with feature values for a single record\n",
    "- Validates input features using Pydantic models\n",
    "- Runs prediction with `predict_single()`\n",
    "- Returns the predicted label and probability as JSON\n",
    "\n",
    "This API supports real-time inference and easy integration with downstream applications such as a Streamlit frontend."
   ]
  },
  {
   "cell_type": "code",
   "execution_count": null,
   "id": "de52f5d6",
   "metadata": {
    "vscode": {
     "languageId": "plaintext"
    }
   },
   "outputs": [],
   "source": [
    "# Pydantic model for input validation\n",
    "class PredictionRequest(RootModel):\n",
    "    pass\n",
    "\n",
    "app = FastAPI(title=\"LoanVet Credit Risk Model API\")\n",
    "\n",
    "@app.post(\"/predict\")\n",
    "async def predict_endpoint(input_data: PredictionRequest):\n",
    "    input_dict = input_data.model_dump()\n",
    "    \n",
    "    missing_features = set(feature_list) - set(input_dict.keys())\n",
    "    extra_features = set(input_dict.keys()) - set(feature_list)\n",
    "\n",
    "    if missing_features:\n",
    "        raise HTTPException(\n",
    "            status_code=422,\n",
    "            detail=f\"Missing required features: {missing_features}\"\n",
    "        )\n",
    "    if extra_features:\n",
    "        raise HTTPException(\n",
    "            status_code=422,\n",
    "            detail=f\"Unexpected extra features provided: {extra_features}\"\n",
    "        )\n",
    "\n",
    "    result = predict_single(input_dict)\n",
    "    logging.info(f\"Prediction made: {result}\")\n",
    "    return {\"prediction\": result}"
   ]
  },
  {
   "cell_type": "markdown",
   "id": "1bbb0fb2",
   "metadata": {},
   "source": [
    "## Integrating with the Streamlit Frontend\n",
    "\n",
    "The deployed FastAPI backend exposes a `/predict` endpoint that accepts JSON requests containing feature values and returns the credit risk prediction results. \n",
    "\n",
    "To provide an interactive user interface for end users, we deploy a separate **Streamlit app** that acts as the frontend. This app:\n",
    "\n",
    "- Collects user inputs for all required features via input widgets.\n",
    "- Sends the input data as a JSON payload in a POST request to the FastAPI `/predict` endpoint.\n",
    "- Displays the returned prediction label (\"High Risk\" or \"Low Risk\") and the associated probability.\n",
    "\n",
    "### Deployment Workflow\n",
    "\n",
    "1. **Backend API Deployment:**\n",
    "   - The FastAPI application is containerized and deployed to a cloud platform (e.g., Railway, Heroku, or AWS).\n",
    "   - The deployed API endpoint URL is made publicly accessible (e.g., `https://loanvet-api.up.railway.app/predict`).\n",
    "\n",
    "2. **Frontend Deployment:**\n",
    "   - The Streamlit app is deployed independently on Streamlit Community Cloud.\n",
    "   - In the Streamlit app code, the API URL is configured to point to the deployed backend endpoint.\n",
    "   - This separation allows frontend and backend to scale and update independently.\n",
    "\n",
    "This end-to-end deployment pipeline provides a scalable, modular, and user-friendly system for credit risk prediction in financial analytics applications."
   ]
  }
 ],
 "metadata": {
  "kernelspec": {
   "display_name": "Python 3 (ipykernel)",
   "language": "python",
   "name": "python3"
  },
  "language_info": {
   "codemirror_mode": {
    "name": "ipython",
    "version": 3
   },
   "file_extension": ".py",
   "mimetype": "text/x-python",
   "name": "python",
   "nbconvert_exporter": "python",
   "pygments_lexer": "ipython3",
   "version": "3.10.13"
  }
 },
 "nbformat": 4,
 "nbformat_minor": 5
}
