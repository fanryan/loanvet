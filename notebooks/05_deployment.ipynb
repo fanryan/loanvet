{
 "cells": [
  {
   "cell_type": "markdown",
   "id": "80a767c2",
   "metadata": {},
   "source": [
    "# 05 | Deployment - LoanVet Credit Risk Model\n",
    "\n",
    "This notebook documents the deployment pipeline for LoanVet's XGBoost credit risk model.\n",
    "\n",
    "Key components:\n",
    "- Model and metadata loading\n",
    "- Batch and single-record prediction functions\n",
    "- FastAPI backend (`src/api/app.py`)\n",
    "- Streamlit frontend (`src/streamlit_app.py`)\n",
    "- Deployment considerations and testing"
   ]
  },
  {
   "cell_type": "code",
   "execution_count": null,
   "id": "c615d818",
   "metadata": {
    "vscode": {
     "languageId": "plaintext"
    }
   },
   "outputs": [],
   "source": [
    "import os\n",
    "import json\n",
    "import joblib\n",
    "import logging\n",
    "import numpy as np\n",
    "import pandas as pd\n",
    "from xgboost import XGBClassifier\n",
    "from typing import Union, Dict\n",
    "\n",
    "logging.basicConfig(level=logging.INFO)  # Enables logging to console"
   ]
  },
  {
   "cell_type": "markdown",
   "id": "05ca15c2",
   "metadata": {},
   "source": [
    "## Load Final Model & Data "
   ]
  },
  {
   "cell_type": "code",
   "execution_count": null,
   "id": "dcedb1a3",
   "metadata": {
    "vscode": {
     "languageId": "plaintext"
    }
   },
   "outputs": [
    {
     "name": "stdout",
     "output_type": "stream",
     "text": [
      "Model loaded.\n",
      "Threshold loaded: 0.2268\n",
      "Features loaded: 19 features\n"
     ]
    }
   ],
   "source": [
    "MODEL_PATH = '../models/final/xgb_final_model.joblib'\n",
    "METADATA_PATH = '../models/final/xgb_final_metadata.json'\n",
    "\n",
    "# Load model\n",
    "model: XGBClassifier = joblib.load(MODEL_PATH)\n",
    "print(\"Model loaded.\")\n",
    "\n",
    "# Load metadata\n",
    "with open(METADATA_PATH, 'r') as f:\n",
    "    metadata = json.load(f)\n",
    "\n",
    "threshold = metadata.get(\"threshold\", 0.5)\n",
    "feature_list = metadata.get(\"features\", [])\n",
    "\n",
    "print(f\"Threshold loaded: {threshold}\")\n",
    "print(f\"Features loaded: {len(feature_list)} features\")"
   ]
  },
  {
   "cell_type": "markdown",
   "id": "848fc700",
   "metadata": {},
   "source": [
    "## Prediction Functions\n",
    "\n",
    "This section defines reusable prediction functions for the LoanVet credit risk model:\n",
    "\n",
    "- **`predict_single`**: Takes a single input record as a dictionary, validates and orders features according to the trained model, predicts the probability of default, and applies the classification threshold to return a binary risk label alongside the probability score.\n",
    "\n",
    "- **`predict_batch`**: Accepts a pandas DataFrame of multiple input records, ensures the correct feature order, computes prediction probabilities for all records, applies the threshold to generate binary labels, and returns the original DataFrame augmented with prediction probabilities and labels.\n",
    "\n",
    "Encapsulating prediction logic in these functions promotes modularity and enables straightforward integration with batch processing pipelines, API endpoints, or downstream applications."
   ]
  },
  {
   "cell_type": "code",
   "execution_count": 30,
   "id": "45242177",
   "metadata": {
    "vscode": {
     "languageId": "plaintext"
    }
   },
   "outputs": [],
   "source": [
    "def predict_single(record: Dict[str, Union[float, int]]) -> Dict[str, Union[int, float]]:\n",
    "    try:\n",
    "        # Convert input dict to DataFrame with one row\n",
    "        df = pd.DataFrame([record])\n",
    "\n",
    "        # Ensure columns are in correct order and all features present\n",
    "        df = df[feature_list]\n",
    "\n",
    "        # Model predicts probability of positive class (1)\n",
    "        proba = model.predict_proba(df)[:, 1][0]\n",
    "\n",
    "        # Apply classification threshold\n",
    "        label = int(proba >= threshold)\n",
    "\n",
    "        return {\"label\": label, \"probability\": proba}\n",
    "\n",
    "    except Exception as e:\n",
    "        logging.error(f\"Error in single prediction: {e}\")\n",
    "        raise\n",
    "\n",
    "def predict_batch(df: pd.DataFrame) -> pd.DataFrame:\n",
    "    try:\n",
    "        # Ensure columns are in correct order and all features present\n",
    "        df = df[feature_list]\n",
    "\n",
    "        # Predict probabilities for positive class\n",
    "        proba = model.predict_proba(df)[:, 1]\n",
    "\n",
    "        # Apply threshold\n",
    "        labels = (proba >= threshold).astype(int)\n",
    "\n",
    "        # Append results\n",
    "        df_result = df.copy()\n",
    "        df_result[\"probability\"] = proba\n",
    "        df_result[\"label\"] = labels\n",
    "\n",
    "        return df_result\n",
    "\n",
    "    except Exception as e:\n",
    "        logging.error(f\"Error in batch prediction: {e}\")\n",
    "        raise"
   ]
  },
  {
   "cell_type": "markdown",
   "id": "9048a73e",
   "metadata": {},
   "source": [
    "## Deployment Architecture\n",
    "\n",
    "LoanVet is deployed with a clean modular structure:\n",
    "\n",
    "- `src/api/app.py`: FastAPI app exposing a `/predict` endpoint\n",
    "- `src/api/utils.py`: Reusable prediction logic (e.g., `predict_single`, `predict_batch`)\n",
    "- `src/streamlit_app.py`: Streamlit frontend for business users to interactively predict credit risk\n",
    "- `models/final/`: Trained XGBoost model and feature metadata\n",
    "\n",
    "This ensures separation of concerns between backend inference and frontend interaction."
   ]
  }
 ],
 "metadata": {
  "kernelspec": {
   "display_name": "Python 3 (ipykernel)",
   "language": "python",
   "name": "python3"
  },
  "language_info": {
   "codemirror_mode": {
    "name": "ipython",
    "version": 3
   },
   "file_extension": ".py",
   "mimetype": "text/x-python",
   "name": "python",
   "nbconvert_exporter": "python",
   "pygments_lexer": "ipython3",
   "version": "3.10.13"
  }
 },
 "nbformat": 4,
 "nbformat_minor": 5
}
